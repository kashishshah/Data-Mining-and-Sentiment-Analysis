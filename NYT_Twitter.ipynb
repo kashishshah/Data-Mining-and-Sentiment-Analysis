{
 "cells": [
  {
   "cell_type": "markdown",
   "metadata": {},
   "source": [
    "# NY Times and Twitter Data Mining"
   ]
  },
  {
   "cell_type": "markdown",
   "metadata": {},
   "source": [
    "### Author: Kashish Shah and Nandana Yadla\n",
    "### Course: CIS 600 Social Media and Data Mining\n",
    "### Date: 12/14/2018"
   ]
  },
  {
   "cell_type": "markdown",
   "metadata": {},
   "source": [
    "This application provides user to establish a correlation between reviews for movies and books. The **movie reviews** are obtained using **New York Times API, Twitter API and TMDB API (The Movie Database or TMDB API has one of the largest database for movies)** and the **book reviews** are harvested from **New York Times API, Twitter API and Good Reads data (Goodreads is one of the most famous platform which is well-known among the avid book readers to get a review of their chosen book)**. A **sentiment analysis** is performed on this harvested data from different APIs. The sentiment analysis is performed using **IBM Tone Analyzer API** that provides sentiments based on the **emotional and language tone** of the text. **Plotly** is used to showcase various visualizations and to compare the reviews provided by different platforms."
   ]
  },
  {
   "cell_type": "markdown",
   "metadata": {},
   "source": [
    "### Import all the required packages "
   ]
  },
  {
   "cell_type": "code",
   "execution_count": 16,
   "metadata": {
    "scrolled": true
   },
   "outputs": [],
   "source": [
    "import json\n",
    "import requests\n",
    "from pprint import pprint\n",
    "import pymongo\n",
    "import pandas as pd\n",
    "import plotly.plotly as py\n",
    "from ipywidgets import widgets\n",
    "from IPython.display import display, clear_output, Image\n",
    "import plotly.graph_objs as go\n",
    "from plotly.widgets import GraphWidget\n",
    "import urllib.request\n",
    "import requests\n",
    "from bs4 import BeautifulSoup\n",
    "from watson_developer_cloud import ToneAnalyzerV3\n",
    "from watson_developer_cloud import WatsonApiException\n",
    "import tweepy\n",
    "import re\n",
    "import csv"
   ]
  },
  {
   "cell_type": "markdown",
   "metadata": {},
   "source": [
    "### Creation of a .json file that contains all the access keys and tokens for using different APIs in this application"
   ]
  },
  {
   "cell_type": "code",
   "execution_count": 2,
   "metadata": {},
   "outputs": [],
   "source": [
    "credentials = dict()\n",
    "credentials['NYT_MOVIE_KEY'] = '69c7380ba1b64dfab0047124550ec0b2' #New York Times API Key for movie reviews\n",
    "credentials['NYT_BOOK_KEY'] = '69c7380ba1b64dfab0047124550ec0b2' #New York Times API Key for book reviews\n",
    "credentials['TMDB_MOVIE_KEY'] = '26dab1009eaec42afb0f19cde440f96f' #TMDB API Key for movie reviews\n",
    "credentials['IBM_TONE_KEY'] = 'BvA2QcZefY7VR2yBDSN1TZhBWEJXOxUS0yyQHpmTnUJ-' #IBM Tone Analyzer API Key for movie reviews\n",
    "credentials['CONSUMER_KEY'] = 'pT2QEM4RPKHiwLKC2JJEJlIg4' \n",
    "credentials['CONSUMER_SECRET'] = 'AUF8QLLfLJdgzWMuYRpE3X6g3EGQlUUs2sKs4uOVON8AIR25gR'\n",
    "credentials['ACCESS_KEY'] = '786452312-hddYCXCXcfgubjp9Loz016K2MY7SwhY7c7lcNurm'\n",
    "credentials['ACCESS_SECRET'] = 'GtSaNMXWMbiZCXCt6HPFCvMi3N33bhdgqcZa2tUKGcTmZ'\n",
    "\n",
    "with open('credentials.json', 'w') as secret_info:\n",
    "    json.dump(credentials, secret_info, indent = 4, sort_keys = True)"
   ]
  },
  {
   "cell_type": "markdown",
   "metadata": {},
   "source": [
    "### This function makes a call to the New York Times API and gets a json response of the movies matching the input string"
   ]
  },
  {
   "cell_type": "code",
   "execution_count": 3,
   "metadata": {},
   "outputs": [],
   "source": [
    "def nyt_search_movie(movie_name):\n",
    "    with open('credentials.json') as cred_data:\n",
    "        info = json.load(cred_data)\n",
    "        nyt_movie_key = info['NYT_MOVIE_KEY']\n",
    "    url = \"http://api.nytimes.com/svc/movies/v2/reviews/search.json?api-key=\"+nyt_movie_key+\"&query=\"+movie_name\n",
    "    result = requests.get(url)\n",
    "    result = json.loads(result.content) #json response\n",
    "    return result"
   ]
  },
  {
   "cell_type": "markdown",
   "metadata": {},
   "source": [
    "## This function extracts the necessary part of the result obtained for the movie name as per the input and gives a response of a link of review of that particular movie"
   ]
  },
  {
   "cell_type": "code",
   "execution_count": 4,
   "metadata": {},
   "outputs": [],
   "source": [
    "def get_nyt_movie_review_link(result,movie_name):\n",
    "    if(result['num_results']==0):\n",
    "        return ''\n",
    "    else:\n",
    "        movielinkdict = {}\n",
    "        for i in range(0,result['num_results']):\n",
    "            if result['results'][i]['display_title'] == movie_name:\n",
    "                temp_movie = result['results'][i]['display_title']\n",
    "                movielinkdict[temp_movie] = result['results'][i]['link']['url'] #selects the link from json response\n",
    "                return movielinkdict[temp_movie] #returns the link of the movie"
   ]
  },
  {
   "cell_type": "markdown",
   "metadata": {},
   "source": [
    "## This functions makes a search on TMDB using the input of the movie name provided by the user and fetches its movie id. Using this movie id, it searches the review of that movie and return review in string format in response."
   ]
  },
  {
   "cell_type": "code",
   "execution_count": 5,
   "metadata": {},
   "outputs": [],
   "source": [
    "def tmdb_search_movie(movie_name):\n",
    "    with open('credentials.json') as cred_data:\n",
    "        info = json.load(cred_data)\n",
    "        tmdb_key = info['TMDB_MOVIE_KEY']\n",
    "    url = 'https://api.themoviedb.org/3/search/movie?api_key='+tmdb_key+'&language=en-US&query='+movie_name+'&include_adult=false'\n",
    "    result = requests.get(url)\n",
    "    result = json.loads(result.content)\n",
    "    movie_id = 1\n",
    "    name = ''\n",
    "    for i in range(0,len(result['results'])):\n",
    "        if result['results'][i]['title']==movie_name:\n",
    "            name = result['results'][i]['title']\n",
    "            movie_id = result['results'][i]['id'] #gets movie id for a particular movie name\n",
    "            break\n",
    "    \n",
    "    url2 = 'https://api.themoviedb.org/3/movie/'+str(movie_id)+'/reviews?api_key='+tmdb_key+'&language=en-US' #make a search based on movie id\n",
    "    result2 = requests.get(url2)\n",
    "    result2 = json.loads(result2.content)\n",
    "    review = ''\n",
    "    for i in range(0,len(result2['results'])):\n",
    "        review = review+result2['results'][i]['content'] #extract and append all the reviews by different reviewers of TMDB\n",
    "        return movie_name,review #return movie name and its review\n",
    "    return movie_name,review"
   ]
  },
  {
   "cell_type": "markdown",
   "metadata": {},
   "source": [
    "## These functions are used to add movie name, its link and reviews to the mongoDb database. Further instructions on how it works is provided in the comments. \n",
    "\n",
    "### Note: The movie reviews are added only for some 100 movies into the database because of the time required to call the API. We can easily add more movies into the database using this function. \n",
    "\n",
    "### However, the application performs a real time search on the API when a user enters a name of a hollywood movie and is not limited to any specific names. Though it might happend that a review for some movie can't exist."
   ]
  },
  {
   "cell_type": "code",
   "execution_count": 6,
   "metadata": {},
   "outputs": [],
   "source": [
    "# The function tmdb_add_to_db() gives a response of a review from TMDB.\n",
    "\n",
    "def tmdb_add_to_db(movie_name,movie_id):\n",
    "    with open('credentials.json') as cred_data:\n",
    "        info = json.load(cred_data)\n",
    "        tmdb_key = info['TMDB_MOVIE_KEY']\n",
    "    \n",
    "    url2 = 'https://api.themoviedb.org/3/movie/'+str(movie_id)+'/reviews?api_key='+tmdb_key+'&language=en-US' #make a search based on movie id\n",
    "    result2 = requests.get(url2)\n",
    "    result2 = json.loads(result2.content)\n",
    "    review = ''\n",
    "    for i in range(0,len(result2['results'])):\n",
    "        review = review+result2['results'][i]['content'] #extract and append all the reviews by different reviewers of TMDB\n",
    "        return movie_name,review \n",
    "    return movie_name,review\n",
    "\n",
    "# The function add_to_mongoDb() is used to add these movies into the database. It has three attributes namely Name, Link and Review.\n",
    "def add_to_mongoDb():\n",
    "    # Uncomment this commented part to add more movies into the database.\n",
    "    '''\n",
    "    movie_names_df = pd.read_csv('data/tmdb_movies.csv')\n",
    "    movie_dict = {}\n",
    "    movie_link_dict = {}\n",
    "    movie_review_dict = {}\n",
    "    movie_dict_dblist = []\n",
    "\n",
    "    for idx in range(0,100):\n",
    "        movie_dict[\"Name\"] = movie_names_df['title'][idx]\n",
    "        nytresult = nyt_search_movie(movie_names_df['title'][idx])\n",
    "        movielinkdict = get_nyt_movie_review_link(nytresult,movie_names_df['title'][idx])\n",
    "        movie_link_dict['Link'] = movielinkdict\n",
    "        movie_dict.update(movie_link_dict)\n",
    "        name,review = tmdb_add_to_db(movie_names_df['title'][idx],movie_names_df['movie_id'][idx])\n",
    "        movie_review_dict['Review'] = review\n",
    "        movie_dict.update(movie_review_dict)\n",
    "        movie_dict_dblist.append(movie_dict.copy())\n",
    "    '''\n",
    "    # Creating a mongo client and creating a database and its collection\n",
    "    myclient = pymongo.MongoClient('mongodb://localhost:27017/')\n",
    "    mydb = myclient[\"projectdb\"]\n",
    "    moviecol = mydb[\"movie_review\"]\n",
    "    \n",
    "    # Uncomment this below command to insert more movies into a database\n",
    "    '''x = moviecol.insert_many(movie_dict_dblist)'''\n",
    "    for x in moviecol.find():\n",
    "        pprint(x)\n",
    "        \n",
    "    # Uncomment this below command to drop the entire database\n",
    "    '''myclient.drop_database(\"projectdb\")'''\n",
    "    return"
   ]
  },
  {
   "cell_type": "markdown",
   "metadata": {},
   "source": [
    "## Run the following command to see output of the data stored in mongoDb database"
   ]
  },
  {
   "cell_type": "code",
   "execution_count": null,
   "metadata": {
    "scrolled": false
   },
   "outputs": [],
   "source": [
    "add_to_mongoDb()"
   ]
  },
  {
   "cell_type": "markdown",
   "metadata": {},
   "source": [
    "## This function makes a search using New York Times API to get a review for a specific book name"
   ]
  },
  {
   "cell_type": "code",
   "execution_count": 7,
   "metadata": {},
   "outputs": [],
   "source": [
    "def nyt_search_book(book_name):\n",
    "    with open('credentials.json') as cred_data:\n",
    "        info = json.load(cred_data)\n",
    "        nyt_book_key = info['NYT_BOOK_KEY']\n",
    "    url = \"https://api.nytimes.com/svc/books/v3/reviews.json?api-key=\"+nyt_book_key+\"&title=\"+book_name\n",
    "    result = requests.get(url)\n",
    "    result = json.loads(result.content)\n",
    "    return result"
   ]
  },
  {
   "cell_type": "markdown",
   "metadata": {},
   "source": [
    "## This fuction gives a response of a link to the review of a book name provided by the user"
   ]
  },
  {
   "cell_type": "code",
   "execution_count": 8,
   "metadata": {},
   "outputs": [],
   "source": [
    "def get_nyt_book_review_link(result,book_name):\n",
    "    if result['num_results']==0:\n",
    "        return ''\n",
    "    else:\n",
    "        booklinkdict = {}\n",
    "        for i in range(0,result['num_results']):\n",
    "            if result['results'][i]['book_title'].lower() == book_name:\n",
    "                temp_book = result['results'][i]['book_title']\n",
    "                booklinkdict[temp_book] = result['results'][i]['url']\n",
    "                return booklinkdict[temp_book]"
   ]
  },
  {
   "cell_type": "markdown",
   "metadata": {},
   "source": [
    "## The following function is used to scrape text from the review links provided and get the review as text."
   ]
  },
  {
   "cell_type": "code",
   "execution_count": 9,
   "metadata": {},
   "outputs": [],
   "source": [
    "def scrape_text(url):\n",
    "    try:\n",
    "        html = requests.get(url).content\n",
    "        '''convert html to BeautifulSoup object'''\n",
    "        soup = BeautifulSoup(html , 'lxml')\n",
    "        paragraphs = [par.text for par in soup.find_all('p')]\n",
    "        text = '\\n'.join(paragraphs)\n",
    "        return text\n",
    "    except:\n",
    "        return None"
   ]
  },
  {
   "cell_type": "markdown",
   "metadata": {},
   "source": [
    "## This function uses IBM Tone Analyzer API to identify the sentiment in the review text"
   ]
  },
  {
   "cell_type": "code",
   "execution_count": 10,
   "metadata": {},
   "outputs": [],
   "source": [
    "def get_sentiment(text):\n",
    "    with open('credentials.json') as cred_data:\n",
    "        info = json.load(cred_data)\n",
    "        ibm_tone_key = info['IBM_TONE_KEY']\n",
    "    tone_analyzer = ToneAnalyzerV3(\n",
    "        version='2018-11-26', #Using the latest version\n",
    "        iam_apikey=ibm_tone_key,\n",
    "        url='https://gateway.watsonplatform.net/tone-analyzer/api'\n",
    "    )\n",
    "    try:\n",
    "        tone_analysis = tone_analyzer.tone(\n",
    "        {'text': text},\n",
    "        'application/json', #getting json response\n",
    "        sentences = False # set this variable as \"True\" to get sentiments of each individual sentences in the review text\n",
    "        ).get_result()\n",
    "        sentiment = tone_analysis\n",
    "        return tone_analysis\n",
    "    except WatsonApiException as ex:\n",
    "        print(\"Method failed with status code \" + str(ex.code) + \": \" + ex.message)"
   ]
  },
  {
   "cell_type": "markdown",
   "metadata": {},
   "source": [
    "## This function extracts the list of tones and the corresponding scores from the output of the above function"
   ]
  },
  {
   "cell_type": "code",
   "execution_count": 11,
   "metadata": {},
   "outputs": [],
   "source": [
    "def get_tone(sentiment):\n",
    "    try:\n",
    "        if sentiment['document_tone']['tones'] == []:\n",
    "            return [0], [0]\n",
    "        else:\n",
    "            tone_list = []\n",
    "            tone_score = []\n",
    "            for tone in sentiment['document_tone']['tones']:\n",
    "                tone_list.append(tone['tone_name'])\n",
    "                tone_score.append(tone['score'])\n",
    "            return tone_list,tone_score\n",
    "    except:\n",
    "        print(\"\")"
   ]
  },
  {
   "cell_type": "markdown",
   "metadata": {},
   "source": [
    "## The following functions are used for extracting tweets from twitter and processing those tweets to obtain as much text as possible"
   ]
  },
  {
   "cell_type": "code",
   "execution_count": 12,
   "metadata": {},
   "outputs": [],
   "source": [
    "# The clean_tweet() function is used to clean the tweets that are obtained\n",
    "\n",
    "def clean_tweet(tweet):\n",
    "    return ' '.join(re.sub(\"(@[A-Za-z0-9]+)|([^0-9A-Za-z \\t])|(\\w+:\\/\\/\\S+)\", \" \", tweet).split())\n",
    "\n",
    "# The following function fetches the tweets\n",
    "def get_tweets(text):\n",
    "    with open('credentials.json') as cred_data:\n",
    "        info = json.load(cred_data)\n",
    "        consumer_key = info['CONSUMER_KEY']\n",
    "        consumer_secret = info['CONSUMER_SECRET']\n",
    "        access_key = info['ACCESS_KEY']\n",
    "        access_secret = info['ACCESS_SECRET']\n",
    "\n",
    "    auth = tweepy.OAuthHandler(consumer_key, consumer_secret)\n",
    "    api = tweepy.API(auth)\n",
    "\n",
    "    n = 50 #maximum number of tweets to be obtained\n",
    "\n",
    "    hashtag = text\n",
    "    tweets = []\n",
    "    \n",
    "    for tweet in tweepy.Cursor(api.search, q='#'+hashtag, rpp=100).items(n):\n",
    "        cleaned_tweet = clean_tweet(str(tweet.text.encode('utf-8'))) # getting clean tweets\n",
    "        tweets.append(cleaned_tweet)\n",
    "        \n",
    "    return tweets\n",
    "\n",
    "#The following function is used to get the review of the twitter data that is being obtained for a particular movie or a book\n",
    "def get_tweets_review(name):\n",
    "    try:\n",
    "        tweets = get_tweets(name)\n",
    "        string = ''\n",
    "        for tweet in tweets:\n",
    "            string = string + tweet\n",
    "        tone_analysis = get_sentiment(string)\n",
    "        #print(tone_analysis['document_tone']['tones'])\n",
    "        tone_list,tone_score = get_tone(tone_analysis)\n",
    "    except:\n",
    "        tone_list = [0]\n",
    "        tone_score = [0]\n",
    "    return tone_list,tone_score"
   ]
  },
  {
   "cell_type": "markdown",
   "metadata": {},
   "source": [
    "## The following function uses all the functions explained above to get the sentiments of the review of a movie. Go to the function and you can get an idea about what it does from the explanation stated above it."
   ]
  },
  {
   "cell_type": "code",
   "execution_count": 13,
   "metadata": {},
   "outputs": [],
   "source": [
    "def get_movie_review(name):\n",
    "    try:\n",
    "        result = nyt_search_movie(name)\n",
    "        link = get_nyt_movie_review_link(result,name)\n",
    "        nyt_review = scrape_text(link)\n",
    "        nyt_sentiment = get_sentiment(nyt_review)\n",
    "        tone_list_nyt,tone_score_nyt = get_tone(nyt_sentiment)\n",
    "    except:\n",
    "        print(\"\")\n",
    "        tone_list_nyt = [0]\n",
    "        tone_score_nyt = [0]\n",
    "        \n",
    "    try:\n",
    "        movie_name,tmdb_review = tmdb_search_movie(name)\n",
    "        tmdb_sentiment = get_sentiment(tmdb_review)\n",
    "        tone_list_tmdb,tone_score_tmdb = get_tone(tmdb_sentiment)\n",
    "    except:\n",
    "        print(\"\")\n",
    "        tone_list_tmdb = [0]\n",
    "        tone_score_tmdb = [0]\n",
    "        \n",
    "    tweet_tone_list, tweet_tone_score = get_tweets_review(name)\n",
    "    return tone_list_tmdb,tone_score_tmdb,tone_list_nyt,tone_score_nyt,tweet_tone_list,tweet_tone_score,name"
   ]
  },
  {
   "cell_type": "markdown",
   "metadata": {},
   "source": [
    "## The following function uses all the functions explained above to get the sentiments of the review of a movie. Go to the function and you can get an idea about what it does from the explanation stated above it."
   ]
  },
  {
   "cell_type": "code",
   "execution_count": 14,
   "metadata": {},
   "outputs": [],
   "source": [
    "def get_book_review(name):\n",
    "    try:\n",
    "        result = nyt_search_book(name)\n",
    "        link = get_nyt_book_review_link(result,name)\n",
    "        nyt_review = scrape_text(link)\n",
    "        nyt_sentiment = get_sentiment(nyt_review)\n",
    "        tone_list_nyt,tone_score_nyt = get_tone(nyt_sentiment)\n",
    "    except:\n",
    "        print(\"\")\n",
    "        tone_list_nyt=[0]\n",
    "        tone_score_nyt=[0]\n",
    "        \n",
    "    try:\n",
    "        \n",
    "        # Here the review from Goodreads database is taken for the required book\n",
    "    \n",
    "        book_details_df = pd.read_csv('data/goodreads.csv')\n",
    "\n",
    "        gr_review = book_details_df.loc[book_details_df['title'].str.lower() == name,'review'].iloc[0]\n",
    "\n",
    "        gr_sentiment = get_sentiment(gr_review)\n",
    "        tone_list_gr,tone_score_gr = get_tone(gr_sentiment)\n",
    "    except:\n",
    "        print(\"\")\n",
    "        tone_list_gr = [0]\n",
    "        tone_score_gr = [0]\n",
    "    tweet_tone_list, tweet_tone_score = get_tweets_review(name)\n",
    "    return tone_list_nyt,tone_score_nyt,tone_list_gr,tone_score_gr,tweet_tone_list,tweet_tone_score,name\n"
   ]
  },
  {
   "cell_type": "markdown",
   "metadata": {},
   "source": [
    "## The following cell manages the visualizations of different pie charts, bar graphs, table and bubble chart.\n",
    "\n",
    "## Kindly wait for the output once you run this last cell as it takes time to load all the charts and graphs and also to fetch data from the API.\n",
    "### If it doesn't show any plot then the review for that particular movie or book name doesn't exist"
   ]
  },
  {
   "cell_type": "code",
   "execution_count": 15,
   "metadata": {
    "collapsed": true
   },
   "outputs": [
    {
     "data": {
      "application/vnd.jupyter.widget-view+json": {
       "model_id": "9aecf9779bae4b77a60f689e55147d0f",
       "version_major": 2,
       "version_minor": 0
      },
      "text/plain": [
       "VBox(children=(FigureWidget({\n",
       "    'data': [{'cells': {'align': [center, left],\n",
       "                        'fill':…"
      ]
     },
     "metadata": {},
     "output_type": "display_data"
    }
   ],
   "source": [
    "# The following function manages the updations in the graphs and charts whenever a user changes or adds an input name of a book or a movie\n",
    "def response(change):\n",
    "    if w.value==\"Movies\": # the updates in the graphs and charts if \"movie\" is selected in the dropdown\n",
    "        tone_list_tmdb,tone_score_tmdb,tone_list_nyt,tone_score_nyt,tweet_tone_list, tweet_tone_score,movie_name = get_movie_review(text_input.value)\n",
    "        with g1.batch_update():\n",
    "            g1.data[0].labels=tone_list_nyt\n",
    "            g1.data[0].values=tone_score_nyt\n",
    "            g1.layout.title = 'NY Times Sentiment (%) for '+movie_name\n",
    "            g2.layout.title = 'NY Times Sentiment Chart for '+movie_name\n",
    "            g2.data[0].x=tone_list_nyt\n",
    "            g2.data[0].y=tone_score_nyt\n",
    "            g4.data[0].labels=tone_list_tmdb    \n",
    "            g4.data[0].values=tone_score_tmdb\n",
    "            g4.layout.title = 'TMDB Sentiment (%) for '+movie_name\n",
    "            g5.layout.title = 'TMDB Sentiment Chart for '+movie_name\n",
    "            g5.data[0].x=tone_list_tmdb\n",
    "            g5.data[0].y=tone_score_tmdb\n",
    "            g6.data[0].x=tone_list_nyt\n",
    "            g6.data[0].y=tone_score_nyt\n",
    "            g6.data[1].x=tone_list_tmdb\n",
    "            g6.data[1].y=tone_score_tmdb\n",
    "            g6.data[1].name = 'TMDB'\n",
    "            g6.data[2].x=tweet_tone_list\n",
    "            g6.data[2].y=tweet_tone_score\n",
    "            g6.layout.title = 'Sentiment Comparisons for '+movie_name\n",
    "            g7.data[0].labels=tweet_tone_list\n",
    "            g7.data[0].values=tweet_tone_score\n",
    "            g7.layout.title = 'Twitter Sentiment (%) for '+movie_name\n",
    "            g8.layout.title = 'Twitter Sentiment Chart for '+movie_name\n",
    "            g8.data[0].x=tweet_tone_list\n",
    "            g8.data[0].y=tweet_tone_score\n",
    "        message2.value = \"\"\n",
    "    if w.value ==\"Books\": # the updates in the graphs and charts if \"book\" is selected in the dropdown\n",
    "        tone_list_nyt,tone_score_nyt,tone_list_gr,tone_score_gr,tweet_tone_list, tweet_tone_score,book_name = get_book_review(text_input.value.lower())\n",
    "        with g1.batch_update():\n",
    "            g1.data[0].labels=tone_list_nyt\n",
    "            g1.data[0].values=tone_score_nyt\n",
    "            g1.layout.title = 'NY Times Sentiment (%) for '+book_name\n",
    "            g2.layout.title = 'NY Times Sentiment Chart for '+book_name\n",
    "            g2.data[0].x=tone_list_nyt\n",
    "            g2.data[0].y=tone_score_nyt\n",
    "            g4.data[0].labels=tone_list_gr    \n",
    "            g4.data[0].values=tone_score_gr\n",
    "            g4.layout.title = 'Goodreads Sentiment (%) for '+book_name\n",
    "            g5.layout.title = 'Goodreads Sentiment Chart for '+book_name\n",
    "            g5.data[0].x=tone_list_gr\n",
    "            g5.data[0].y=tone_score_gr\n",
    "            g6.data[0].x=tone_list_nyt\n",
    "            g6.data[0].y=tone_score_nyt\n",
    "            g6.data[1].x=tone_list_gr\n",
    "            g6.data[1].y=tone_score_gr\n",
    "            g6.data[1].name = 'Goodreads'\n",
    "            g6.data[2].x=tweet_tone_list\n",
    "            g6.data[2].y=tweet_tone_score\n",
    "            g6.layout.title = 'Sentiment Comparisons for '+book_name\n",
    "            g7.data[0].labels=tweet_tone_list\n",
    "            g7.data[0].values=tweet_tone_score\n",
    "            g7.layout.title = 'Twitter Sentiment (%) for '+book_name\n",
    "            g8.layout.title = 'Twitter Sentiment Chart for '+book_name\n",
    "            g8.data[0].x=tweet_tone_list\n",
    "            g8.data[0].y=tweet_tone_score\n",
    "\n",
    "# Dropdown menu\n",
    "w = widgets.Dropdown(\n",
    "    options= ['Movies', 'Books'],\n",
    "    value='Movies', # initializing it with \"Movie\" option\n",
    "    description='Select:',\n",
    ")\n",
    "\n",
    "# Submit buttion\n",
    "button = widgets.Button(description=\"Submit\")\n",
    "\n",
    "#Text box for user to input a name of movie or book\n",
    "text_input = widgets.Text(\n",
    "    description='Name:',\n",
    "    value='Spectre',\n",
    ")\n",
    "\n",
    "tone_list_tmdb,tone_score_tmdb,tone_list_nyt,tone_score_nyt,tweet_tone_list, tweet_tone_score,movie_name = get_movie_review('Spectre')\n",
    "\n",
    "trace1 = go.Pie(labels=tone_list_nyt, values=tone_score_nyt,opacity=0.7) # Pie chart of sentiment score for NY Times review\n",
    "trace2 = go.Bar(              # Bar graph of sentiment score for NY Times review\n",
    "    x = tone_list_nyt,\n",
    "    y = tone_score_nyt,\n",
    "    name = \"Sentiment\",\n",
    "    opacity=0.7\n",
    ")\n",
    "trace3 = go.Table(            # Table to show a sentiment name and its description\n",
    "    columnorder = [1,2],\n",
    "    columnwidth = [5,20],\n",
    "    header=dict(\n",
    "        values=['<b>Sentiment type</b><br>', '<b>DESCRIPTION</b>'],\n",
    "                line = dict(color='#7D7F80'),\n",
    "                fill = dict(color='#a1c3d1'),\n",
    "                align = ['center','center']),\n",
    "        cells=dict(values=[['Anger','Fear', 'Joy','Sadness','Analytical','Confident','Tentative'],\n",
    "                       ['Anger is evoked due to humiliation, conflict or negligence. There is a verbal attack.',\n",
    "                 'Fear is a response to impending danger. Fear can be a mild caution or an extreme phobia.',\n",
    "                 'Joy (or happiness) has shades of enjoyment, satisfaction, and pleasure.',\n",
    "                 'Sadness indicates a feeling of loss and disadvantage.',\n",
    "                 'An analytical tone indicates reasoning and analytical attitude about things. It is often rational.',\n",
    "                 'A confident tone indicates a degree of certainty.',\n",
    "                 'A tentative tone indicates a degree of inhibition or doubt.']],\n",
    "               line = dict(color='#7D7F80'),\n",
    "               fill = dict(color='#EDFAFF'),\n",
    "               align = ['center','left'])\n",
    ")\n",
    "trace4 = go.Pie(labels=tone_list_tmdb, values=tone_score_tmdb,opacity=0.7) # Pie chart of sentiment score for TMDB/Good Reads data\n",
    "\n",
    "trace5 = go.Bar(              # Bar graph of sentiment score for TMDB/Goodreads data\n",
    "    x = tone_list_tmdb,\n",
    "    y = tone_score_tmdb,\n",
    "    name = \"Sentiment\",\n",
    "    opacity=0.7\n",
    ")\n",
    "trace6 = go.Scatter(          # Bubble charts information of NY Times review for comparison\n",
    "    x = tone_list_nyt,\n",
    "    y = tone_score_nyt,\n",
    "    mode='markers',\n",
    "    opacity = 0.7,\n",
    "    name = 'NY Times',\n",
    "    text = 'Sentiment Score',\n",
    "    marker=dict(\n",
    "        symbol = 'circle',\n",
    "        size = 50,\n",
    "        color = 'rgb(255, 144, 14)',\n",
    "        line=dict(\n",
    "            width=2\n",
    "        ),\n",
    "    )\n",
    "\n",
    ")\n",
    "trace7 = go.Scatter(         # Bubble charts information of TMDB/Goodreads review for comparison\n",
    "    x = tone_list_tmdb,\n",
    "    y = tone_score_tmdb,\n",
    "    mode='markers',\n",
    "    opacity = 0.7,\n",
    "    name = 'TMDB',\n",
    "    text = 'Sentiment Score',\n",
    "    marker=dict(\n",
    "        symbol = 'circle',\n",
    "        size = 50,\n",
    "        color = 'rgb(93, 164, 214)',\n",
    "        line=dict(\n",
    "            width=2\n",
    "        ),\n",
    "    )\n",
    "\n",
    ")\n",
    "trace8 = go.Scatter(         # Bubble charts information of Twitter review for comparison\n",
    "    x = tweet_tone_list,\n",
    "    y = tweet_tone_score,\n",
    "    mode='markers',\n",
    "    opacity = 0.7,\n",
    "    name = 'Twitter',\n",
    "    text = 'Sentiment Score',\n",
    "    marker=dict(\n",
    "        symbol = 'circle',\n",
    "        size = 50,\n",
    "        color = 'rgb(44, 160, 101)',\n",
    "        line=dict(\n",
    "            width=2\n",
    "        ),\n",
    "    )\n",
    "\n",
    ")\n",
    "trace9 = go.Pie(labels=tweet_tone_list, values=tweet_tone_score,opacity=0.7) # Pie chart of sentiment score for twitter review\n",
    "trace10 = go.Bar(                 # Bar chart of sentiment score for twitter review data\n",
    "    x = tweet_tone_list,\n",
    "    y = tweet_tone_score,\n",
    "    name = \"Sentiment\",\n",
    "    opacity=0.7\n",
    ")\n",
    "\n",
    "\n",
    "\n",
    "g1 = go.FigureWidget(data=[trace1],\n",
    "                layout=go.Layout(title='NY Times Sentiment(%) for '+movie_name))\n",
    "g2 = go.FigureWidget(data=[trace2],\n",
    "                layout=go.Layout(title='NY Times Sentiment Chart for '+movie_name,xaxis=dict(title='Sentiment Name'),yaxis=dict(title='Sentiment Score')))\n",
    "g3 = go.FigureWidget(data=[trace3],\n",
    "                layout=go.Layout(title='Sentiment Description Table'))\n",
    "g4 = go.FigureWidget(data=[trace4],\n",
    "                layout=go.Layout(title='TMDB Sentiment(%) for '+movie_name))\n",
    "g5 = go.FigureWidget(data=[trace5],\n",
    "                     layout=go.Layout(title='TMDB Sentiment Chart for '+movie_name,xaxis=dict(title='Sentiment Name'),yaxis=dict(title='Sentiment Score')))   \n",
    "\n",
    "g6 = go.FigureWidget(data=[trace6,trace7,trace8],layout=go.Layout(title = 'Sentiment Comparisons for '+movie_name,xaxis=dict(title='Sentiment Name'),yaxis=dict(title='Sentiment Score')))\n",
    "\n",
    "g7 = go.FigureWidget(data=[trace9],\n",
    "                layout=go.Layout(title='Twitter Sentiment(%) for '+movie_name))\n",
    "g8 = go.FigureWidget(data=[trace10],\n",
    "                layout=go.Layout(title='Twitter Sentiment Chart for '+movie_name,xaxis=dict(title='Sentiment Name'),yaxis=dict(title='Sentiment Score')))\n",
    "\n",
    "\n",
    "message = widgets.HTML(\n",
    "    value=\"\",\n",
    ")\n",
    "\n",
    "message2 = widgets.HTML(\n",
    "    value=\"\",\n",
    ")\n",
    "\n",
    "button.on_click(response)\n",
    "w.observe(response, names=\"value\")\n",
    "#text_input.observe(response,names=\"value\")\n",
    "container1 = widgets.HBox(children=[text_input,button,message])\n",
    "container2 = widgets.HBox(children=[g1,g2]) \n",
    "container3 = widgets.HBox(children=[g4,g5])\n",
    "container4 = widgets.HBox(children=[g7,g8])\n",
    "container5 = widgets.HBox(children=[g6])\n",
    "container6 = widgets.VBox(children=[g3,w,container1,message2,container2,container3,container4,container5])\n",
    "display(container6)"
   ]
  }
 ],
 "metadata": {
  "kernelspec": {
   "display_name": "Python 3",
   "language": "python",
   "name": "python3"
  },
  "language_info": {
   "codemirror_mode": {
    "name": "ipython",
    "version": 3
   },
   "file_extension": ".py",
   "mimetype": "text/x-python",
   "name": "python",
   "nbconvert_exporter": "python",
   "pygments_lexer": "ipython3",
   "version": "3.6.5"
  }
 },
 "nbformat": 4,
 "nbformat_minor": 2
}
